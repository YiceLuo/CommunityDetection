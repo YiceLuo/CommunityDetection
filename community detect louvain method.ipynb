{
 "cells": [
  {
   "cell_type": "code",
   "execution_count": null,
   "metadata": {},
   "outputs": [],
   "source": [
    "import networkx as nx\n",
    "import pandas as pd\n",
    "import os\n",
    "import numpy as np\n",
    "import sys\n",
    "import math"
   ]
  },
  {
   "cell_type": "markdown",
   "metadata": {},
   "source": [
    "create adjacent matrices for nets"
   ]
  },
  {
   "cell_type": "code",
   "execution_count": null,
   "metadata": {},
   "outputs": [],
   "source": [
    "def netmatize(net):\n",
    "    n=net.max().max()\n",
    "    Net=np.zeros((n,n))\n",
    "    N=net.shape[0]\n",
    "    for i in range(N):\n",
    "        x=net.iloc[i,0]\n",
    "        y=net.iloc[i,1]\n",
    "        Net[x,y]=Net[x,y]+1\n",
    "    return Net "
   ]
  },
  {
   "cell_type": "code",
   "execution_count": null,
   "metadata": {},
   "outputs": [],
   "source": [
    "for root, dirs, files in os.walk(\"./travian-dataset/Attacks-Network-CSV\"):  \n",
    "    print('extracting attack')\n",
    "files.sort()"
   ]
  },
  {
   "cell_type": "code",
   "execution_count": null,
   "metadata": {},
   "outputs": [],
   "source": [
    "i=0\n",
    "for file in files:\n",
    "    filepath=\"./travian-dataset/Attacks-Network-CSV/\"+file\n",
    "    globals()[\"attack\"+str(i)] = netmatize(pd.read_csv(filepath,header=None,usecols=[1,2]))\n",
    "    i=i+1"
   ]
  },
  {
   "cell_type": "code",
   "execution_count": null,
   "metadata": {},
   "outputs": [],
   "source": [
    "for root, dirs, files in os.walk(\"./travian-dataset/Messages-Network-CSV\"):  \n",
    "    print('extracting message')\n",
    "files.sort()"
   ]
  },
  {
   "cell_type": "code",
   "execution_count": null,
   "metadata": {},
   "outputs": [],
   "source": [
    "i=0\n",
    "for file in files:\n",
    "    filepath=\"./travian-dataset/Messages-Network-CSV/\"+file\n",
    "    globals()[\"message\"+str(i)] = netmatize(pd.read_csv(filepath,header=None,usecols=[1,2]))\n",
    "    i=i+1"
   ]
  },
  {
   "cell_type": "code",
   "execution_count": null,
   "metadata": {},
   "outputs": [],
   "source": [
    "for root, dirs, files in os.walk(\"./travian-dataset/Trades-Network-CSV\"):  \n",
    "    print('extracting trade')\n",
    "files.sort()"
   ]
  },
  {
   "cell_type": "code",
   "execution_count": null,
   "metadata": {},
   "outputs": [],
   "source": [
    "i=0\n",
    "for file in files:\n",
    "    filepath=\"./travian-dataset/Trades-Network-CSV/\"+file\n",
    "    globals()[\"trade\"+str(i)] = netmatize(pd.read_csv(filepath,header=None,usecols=[1,2]))\n",
    "    i=i+1"
   ]
  },
  {
   "cell_type": "code",
   "execution_count": null,
   "metadata": {},
   "outputs": [],
   "source": [
    "for root, dirs, files in os.walk(\"./travian-dataset/Communities\"):  \n",
    "    print('extracting community')\n",
    "files.sort()"
   ]
  },
  {
   "cell_type": "code",
   "execution_count": null,
   "metadata": {},
   "outputs": [],
   "source": [
    "def matize(Community):\n",
    "    n=max(Community)\n",
    "    Com=np.zeros((n,n))\n",
    "    for i in Community:\n",
    "        for j in i:\n",
    "            for jj in i:\n",
    "                Com[j,jj]=1\n",
    "    return Com  "
   ]
  },
  {
   "cell_type": "code",
   "execution_count": null,
   "metadata": {},
   "outputs": [],
   "source": [
    "i=0\n",
    "for file in files:\n",
    "    filepath=\"./travian-dataset/communities/\"+file\n",
    "    result=[]\n",
    "    with open(filepath,'r') as f:\n",
    "        for line in f:\n",
    "            result.append(list(map(int,line.strip('\\n').split(' '))))\n",
    "    globals()[\"community\"+str(i)] = result\n",
    "    i=i+1"
   ]
  },
  {
   "cell_type": "markdown",
   "metadata": {},
   "source": [
    "louvain method"
   ]
  },
  {
   "cell_type": "code",
   "execution_count": null,
   "metadata": {},
   "outputs": [],
   "source": [
    "def k(i):\n",
    "    return A[:,i].sum()"
   ]
  },
  {
   "cell_type": "code",
   "execution_count": null,
   "metadata": {},
   "outputs": [],
   "source": [
    "def Modularity(A,C):\n",
    "    #A==adjecent matrix; C==labeling\n",
    "    n=A.shape[0]\n",
    "    m=A.sum()\n",
    "    Q=0\n",
    "    for i in range(n):\n",
    "        for j in range(n):\n",
    "            Q=Q+(A[i,j]-k(i)*k(j)/m)*(C[i]==C[j])\n",
    "    Q=Q/m\n",
    "    return Q"
   ]
  },
  {
   "cell_type": "code",
   "execution_count": null,
   "metadata": {},
   "outputs": [],
   "source": [
    "def louvain(A,lowerboundofnum,lowerboundofdiff):\n",
    "    diffmax=lowerboundofdiff+1e-5\n",
    "    n=A.shape[0]\n",
    "    C=range(n)\n",
    "    while(n>lowerbound and diffmax>lowerboundofdiff):\n",
    "        diff=[]\n",
    "        Q=[]\n",
    "        for i in range(n):\n",
    "            Q0=Modularity(A,C)\n",
    "            nb=np.argwhere(A.tolist()[i]>0)\n",
    "            for j in nb:\n",
    "                C1=C\n",
    "                C1[i]=C1[j]\n",
    "                Q1=Modularity(A,C1)\n",
    "                diff=diff.append(Q1-Q0)\n",
    "                if diff.max>lowerboundofdiff:\n",
    "                    I=diff.index(diff.max())\n",
    "                    C[i]=C[I]\n",
    "                if diff.max<diffmax:\n",
    "                    diffmax=diff.max\n",
    "        n=len(set(C))\n",
    "    return C"
   ]
  },
  {
   "cell_type": "markdown",
   "metadata": {},
   "source": [
    "The similarity of true community and the result"
   ]
  },
  {
   "cell_type": "code",
   "execution_count": null,
   "metadata": {},
   "outputs": [],
   "source": [
    "def similarity(Com,C):\n",
    "    n=Com.shape[0]\n",
    "    Comnew=np.zeros((n,n))\n",
    "    for i in range(n):\n",
    "        for j in range(n):\n",
    "            if C[i]==C[j]:\n",
    "                Comnew[i,j]=1\n",
    "    return (Com==Comnew).mean()"
   ]
  },
  {
   "cell_type": "markdown",
   "metadata": {},
   "source": [
    "testing"
   ]
  },
  {
   "cell_type": "code",
   "execution_count": null,
   "metadata": {},
   "outputs": [],
   "source": [
    "acca=[]\n",
    "accm=[]\n",
    "acct=[]\n",
    "for i in range(1,30):\n",
    "    N=len(globals()[\"community\"+str(i)])\n",
    "    Com=matize(globals()[\"community\"+str(i)])\n",
    "    A=louvain(globals()[\"attack\"+str(i)],N,1e-5)\n",
    "    acca=acca.append(similarity(Com,A))\n",
    "    M=louvain(globals()[\"massage\"+str(i)],N,1e-5)\n",
    "    accm=accm.append(similarity(Com,M))\n",
    "    T=louvain(globals()[\"trade\"+str(i)],N,1e-5)\n",
    "    acct=acct.append(similarity(Com,T))"
   ]
  },
  {
   "cell_type": "code",
   "execution_count": null,
   "metadata": {},
   "outputs": [],
   "source": [
    "print(mean(acca))\n",
    "print(mean(acct))\n",
    "print(mean(accm))"
   ]
  }
 ],
 "metadata": {
  "kernelspec": {
   "display_name": "Python 3",
   "language": "python",
   "name": "python3"
  },
  "language_info": {
   "codemirror_mode": {
    "name": "ipython",
    "version": 3
   },
   "file_extension": ".py",
   "mimetype": "text/x-python",
   "name": "python",
   "nbconvert_exporter": "python",
   "pygments_lexer": "ipython3",
   "version": "3.7.1"
  }
 },
 "nbformat": 4,
 "nbformat_minor": 2
}
